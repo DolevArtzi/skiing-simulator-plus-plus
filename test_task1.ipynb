{
 "cells": [
  {
   "cell_type": "code",
   "execution_count": 49,
   "metadata": {},
   "outputs": [
    {
     "data": {
      "text/plain": [
       "{'breakfast': [('Good Eats', (1, -5)),\n",
       "  ('Snowy Sandwiches', (4, 2)),\n",
       "  ('Powder Paninis', (18, -12))],\n",
       " 'rental': [('Marcels Gear', (24, 14)),\n",
       "  ('Maurices Snow Equipment', (-17, 4)),\n",
       "  ('Park City Ski Rentals', (-19, 2))],\n",
       " 'mountain': [('Park City', (16, -5)),\n",
       "  ('Deer Valley', (18, 9)),\n",
       "  ('Snowbird', (13, 11)),\n",
       "  ('Alta', (19, 15))]}"
      ]
     },
     "execution_count": 49,
     "metadata": {},
     "output_type": "execute_result"
    }
   ],
   "source": [
    "from navigator import Navigator\n",
    "breakfast_locs = [('Good Eats',(1,-5)),('Snowy Sandwiches',(4,2)),('Powder Paninis',(18,-12))]\n",
    "rental_locs = [('Marcels Gear',(24,14)),('Maurices Snow Equipment',(-17,4)),('Park City Ski Rentals',(-19,2))]\n",
    "mountain_locs = [('Park City',(16,-5)),('Deer Valley',(18,9)),('Snowbird',(13,11)),('Alta',(19,15))]\n",
    "location_info = {'breakfast':breakfast_locs,\n",
    "                 'rental':rental_locs,\n",
    "                 'mountain':mountain_locs}\n",
    "N = Navigator(location_info)\n",
    "location_info"
   ]
  },
  {
   "cell_type": "code",
   "execution_count": 54,
   "metadata": {},
   "outputs": [],
   "source": [
    "loc_1 = (0,0)\n",
    "loc_2 = (1,-9)\n",
    "loc_3 = (8,13)\n",
    "loc_4 = (8,2)"
   ]
  },
  {
   "cell_type": "code",
   "execution_count": 55,
   "metadata": {},
   "outputs": [],
   "source": [
    "## Note: if there's no output, that means you passed the test\n",
    "assert(N.find_route(loc_1) == ['Good Eats', 'Marcels Gear', 'Alta'])\n",
    "assert(N.find_route(loc_2) == ['Good Eats', 'Marcels Gear', 'Alta'])\n",
    "assert(N.find_route(loc_3) == ['Powder Paninis', 'Marcels Gear', 'Alta'])\n",
    "assert(N.find_route(loc_4) == ['Powder Paninis', 'Marcels Gear', 'Alta'])"
   ]
  }
 ],
 "metadata": {
  "kernelspec": {
   "display_name": "Python 3.11.6 64-bit",
   "language": "python",
   "name": "python3"
  },
  "language_info": {
   "codemirror_mode": {
    "name": "ipython",
    "version": 3
   },
   "file_extension": ".py",
   "mimetype": "text/x-python",
   "name": "python",
   "nbconvert_exporter": "python",
   "pygments_lexer": "ipython3",
   "version": "3.11.6"
  },
  "orig_nbformat": 4,
  "vscode": {
   "interpreter": {
    "hash": "b0fa6594d8f4cbf19f97940f81e996739fb7646882a419484c72d19e05852a7e"
   }
  }
 },
 "nbformat": 4,
 "nbformat_minor": 2
}
