{
 "cells": [
  {
   "cell_type": "code",
   "execution_count": 1,
   "metadata": {},
   "outputs": [],
   "source": [
    "from rental_store import RentalStore"
   ]
  },
  {
   "cell_type": "code",
   "execution_count": 2,
   "metadata": {},
   "outputs": [],
   "source": [
    "### Test: generate_prices\n",
    "R1 = RentalStore('Store 1',(14,12),is_weekend=True,is_season=False)\n",
    "R1.generate_prices()\n",
    "for gear in R1.gear_types:\n",
    "    prices = R1.price_points[gear]\n",
    "    low = -1\n",
    "    high = -1\n",
    "    for (l,h) in prices:\n",
    "        assert(l < h)\n",
    "        assert(l >= high and h >= high)\n",
    "        assert(l >= 50)\n",
    "        low = l\n",
    "        high = h"
   ]
  },
  {
   "cell_type": "code",
   "execution_count": 3,
   "metadata": {},
   "outputs": [],
   "source": [
    "### Test: generate_price\n",
    "for gear in R1.gear_types:\n",
    "    for i in range(3):\n",
    "        price = R1.generate_price(gear,i)\n",
    "        l,h = R1.price_points[gear][i]\n",
    "        assert(l <= price <= h)"
   ]
  },
  {
   "cell_type": "code",
   "execution_count": 4,
   "metadata": {},
   "outputs": [],
   "source": [
    "### Test: serve_skier\n",
    "new_prices = {'skis':[(200,300),(350,500),(600,1000)],\n",
    "              'poles':[(50,100),(110,125),(130,180)],\n",
    "              'helmet':[(80,120),(130,150),(160,250)], \n",
    "              'pants':[(75,100),(105,115),(130,300)]}\n",
    "for k in new_prices:\n",
    "    R1.price_points[k] = new_prices[k]\n"
   ]
  },
  {
   "cell_type": "code",
   "execution_count": 5,
   "metadata": {},
   "outputs": [
    {
     "data": {
      "text/plain": [
       "{'skis': [(200, 300), (350, 500), (600, 1000)],\n",
       " 'poles': [(50, 100), (110, 125), (130, 180)],\n",
       " 'boots': [(393, 430), (473, 506), (517, 540)],\n",
       " 'helmet': [(80, 120), (130, 150), (160, 250)],\n",
       " 'goggles': [(684, 704), (752, 773), (804, 847)],\n",
       " 'coat': [(851, 857), (884, 901), (913, 941)],\n",
       " 'pants': [(75, 100), (105, 115), (130, 300)]}"
      ]
     },
     "execution_count": 5,
     "metadata": {},
     "output_type": "execute_result"
    }
   ],
   "source": [
    "R1.price_points"
   ]
  },
  {
   "cell_type": "code",
   "execution_count": 6,
   "metadata": {},
   "outputs": [],
   "source": [
    "# Test: serve_skier 1\n",
    "\n",
    "name = 'Miles'\n",
    "gear_list = ['skis','helmet','poles']\n",
    "prices_max = [0,1,1]\n",
    "R1.serve_skier(name,gear_list,prices_max)\n",
    "for i,gear in enumerate(gear_list):\n",
    "    gear_sold = R1.skiers_served[name]\n",
    "    idx = prices_max[i]\n",
    "    l,h = R1.price_points[gear][idx]\n",
    "    assert(gear == gear_sold[i][0])\n",
    "    assert(l <= gear_sold[i][1] <= h)"
   ]
  },
  {
   "cell_type": "code",
   "execution_count": 7,
   "metadata": {},
   "outputs": [],
   "source": [
    "# Test: serve_skier 2\n",
    "\n",
    "name = 'Dolev'\n",
    "gear_list = ['skis','poles']\n",
    "prices_max = [0,2]\n",
    "R1.serve_skier(name,gear_list,prices_max)\n",
    "for i,gear in enumerate(gear_list):\n",
    "    gear_sold = R1.skiers_served[name]\n",
    "    idx = prices_max[i]\n",
    "    l,h = R1.price_points[gear][idx]\n",
    "    assert(gear == gear_sold[i][0])\n",
    "    assert(l <= gear_sold[i][1] <= h)"
   ]
  },
  {
   "cell_type": "code",
   "execution_count": 8,
   "metadata": {},
   "outputs": [],
   "source": [
    "# Test: serve_skier 3\n",
    "\n",
    "name = 'Dan'\n",
    "gear_list = ['pants','helmet','poles']\n",
    "prices_max = [2,2,1]\n",
    "R1.serve_skier(name,gear_list,prices_max)\n",
    "for i,gear in enumerate(gear_list):\n",
    "    gear_sold = R1.skiers_served[name]\n",
    "    idx = prices_max[i]\n",
    "    l,h = R1.price_points[gear][idx]\n",
    "    assert(gear == gear_sold[i][0])\n",
    "    assert(l <= gear_sold[i][1] <= h)"
   ]
  },
  {
   "cell_type": "code",
   "execution_count": 10,
   "metadata": {},
   "outputs": [],
   "source": [
    "# serve_group: should be very easy if you got serve_skier to work. Write your own test, if you want"
   ]
  },
  {
   "cell_type": "code",
   "execution_count": 9,
   "metadata": {},
   "outputs": [],
   "source": [
    "### Test: check_out_skier\n",
    "R1.check_out_skier('Miles')\n",
    "p = 0\n",
    "for (_,price) in R1.skiers_served['Miles']:\n",
    "    p += price\n",
    "assert(R1.money_earned == p)"
   ]
  },
  {
   "cell_type": "code",
   "execution_count": 11,
   "metadata": {},
   "outputs": [],
   "source": [
    "# close_store: should be very easy if you got check_out_skier to work. Write your own test, if you want"
   ]
  }
 ],
 "metadata": {
  "kernelspec": {
   "display_name": "Python 3.11.6 64-bit",
   "language": "python",
   "name": "python3"
  },
  "language_info": {
   "codemirror_mode": {
    "name": "ipython",
    "version": 3
   },
   "file_extension": ".py",
   "mimetype": "text/x-python",
   "name": "python",
   "nbconvert_exporter": "python",
   "pygments_lexer": "ipython3",
   "version": "3.11.6"
  },
  "orig_nbformat": 4,
  "vscode": {
   "interpreter": {
    "hash": "b0fa6594d8f4cbf19f97940f81e996739fb7646882a419484c72d19e05852a7e"
   }
  }
 },
 "nbformat": 4,
 "nbformat_minor": 2
}
